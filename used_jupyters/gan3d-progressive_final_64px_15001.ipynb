{
 "cells": [
  {
   "cell_type": "code",
   "execution_count": 1,
   "metadata": {
    "papermill": {
     "duration": 0.01743,
     "end_time": "2018-12-15T08:25:22.244330",
     "exception": false,
     "start_time": "2018-12-15T08:25:22.226900",
     "status": "completed"
    },
    "tags": []
   },
   "outputs": [],
   "source": [
    "%load_ext autoreload\n",
    "%autoreload 2"
   ]
  },
  {
   "cell_type": "code",
   "execution_count": 2,
   "metadata": {
    "papermill": {
     "duration": 0.103328,
     "end_time": "2018-12-15T08:25:22.348028",
     "exception": false,
     "start_time": "2018-12-15T08:25:22.244700",
     "status": "completed"
    },
    "tags": []
   },
   "outputs": [],
   "source": [
    "import numpy as np"
   ]
  },
  {
   "cell_type": "code",
   "execution_count": 3,
   "metadata": {
    "papermill": {
     "duration": 18.27546,
     "end_time": "2018-12-15T08:25:40.623720",
     "exception": false,
     "start_time": "2018-12-15T08:25:22.348260",
     "status": "completed"
    },
    "tags": []
   },
   "outputs": [],
   "source": [
    "from gan3d.utils import loadObjects\n",
    "from gan3d.progressive_training import training"
   ]
  },
  {
   "cell_type": "markdown",
   "metadata": {
    "papermill": {
     "duration": 2.1e-05,
     "end_time": "2018-12-15T08:25:40.624024",
     "exception": false,
     "start_time": "2018-12-15T08:25:40.624003",
     "status": "completed"
    },
    "tags": []
   },
   "source": [
    "# Parameters"
   ]
  },
  {
   "cell_type": "code",
   "execution_count": 4,
   "metadata": {
    "papermill": {
     "duration": 0.029513,
     "end_time": "2018-12-15T08:25:40.658281",
     "exception": false,
     "start_time": "2018-12-15T08:25:40.628768",
     "status": "completed"
    },
    "tags": []
   },
   "outputs": [],
   "source": [
    "DATA_PATH = '/home/ecbm4040/3DShapeNets/volumetric_data/chair/30/train/'\n",
    "PROGRESS = [\n",
    "    #{'len_arr': 2, 'pixel_shape': 16, 'pro_growth': 1},\n",
    "    #{'len_arr': 3, 'pixel_shape': 32, 'pro_growth': 2},\n",
    "    {'len_arr': 4, 'pixel_shape': 64, 'pro_growth': 3},\n",
    "           ]\n",
    "G_LAYERS = [{'no_filters': 512, 'padding': 'valid', 'strides': (1, 1, 1)}\n",
    "            ,{'no_filters': 256, 'padding': 'same', 'strides': (2, 2, 2)}\n",
    "            ,{'no_filters': 128, 'padding': 'same', 'strides': (2, 2, 2)}\n",
    "            ,{'no_filters': 64, 'padding': 'same', 'strides': (2, 2, 2)}\n",
    "           ]\n",
    "D_LAYERS = [{'no_filters': 64, 'padding': 'same'}\n",
    "            ,{'no_filters': 128, 'padding': 'same'}\n",
    "            ,{'no_filters': 256, 'padding': 'same'}\n",
    "            ,{'no_filters': 512, 'padding': 'same'}\n",
    "           ]\n",
    "BATCH_SIZE = 64\n",
    "NO_BATCHES = 15001\n",
    "G_LR = 0.0025\n",
    "D_LR = 0.00001\n",
    "BETA = 0.5\n",
    "D_TRESH = 0.8\n",
    "G_TRESH = 0.2\n",
    "MODEL_NAME = 'gan3d_refactored_progressive_final_64px_15001'"
   ]
  },
  {
   "cell_type": "markdown",
   "metadata": {
    "papermill": {
     "duration": 1.1e-05,
     "end_time": "2018-12-15T08:25:40.658371",
     "exception": false,
     "start_time": "2018-12-15T08:25:40.658360",
     "status": "completed"
    },
    "tags": []
   },
   "source": [
    "# Training"
   ]
  },
  {
   "cell_type": "code",
   "execution_count": null,
   "metadata": {
    "papermill": {
     "duration": null,
     "end_time": null,
     "exception": null,
     "start_time": null,
     "status": "running"
    },
    "tags": []
   },
   "outputs": [],
   "source": [
    "pre_trained_model = None\n",
    "\n",
    "for progress_step in PROGRESS:\n",
    "    pixel_shape = progress_step['pixel_shape']\n",
    "    len_arr = progress_step['len_arr']\n",
    "    pro_growth = progress_step['pro_growth']\n",
    "    # load data\n",
    "    volumes = loadObjects(DATA_PATH, cube_len=pixel_shape, num_obj=7000)\n",
    "    volumes = volumes[...,np.newaxis].astype(np.float)\n",
    "    training(volumes,\n",
    "             d_layers = D_LAYERS[0:len_arr],\n",
    "             g_layers = G_LAYERS[0:len_arr],\n",
    "             batch_size = BATCH_SIZE,\n",
    "             no_batches = NO_BATCHES,\n",
    "             pixel_shape = pixel_shape,\n",
    "             d_lr = D_LR,\n",
    "             g_lr = G_LR,\n",
    "             beta = BETA,\n",
    "             d_thresh = D_TRESH,\n",
    "             g_thresh = G_TRESH,\n",
    "             model_name = MODEL_NAME + '_' + str(pro_growth),\n",
    "             pro_growth = pro_growth,\n",
    "             pre_trained_model = pre_trained_model,\n",
    "             use_timestamp = False,\n",
    "             no_models = 1\n",
    "            )\n",
    "    pre_trained_model = MODEL_NAME + '_' + str(pro_growth)"
   ]
  }
 ],
 "metadata": {
  "kernelspec": {
   "display_name": "Python 3",
   "language": "python",
   "name": "python3"
  },
  "language_info": {
   "codemirror_mode": {
    "name": "ipython",
    "version": 3
   },
   "file_extension": ".py",
   "mimetype": "text/x-python",
   "name": "python",
   "nbconvert_exporter": "python",
   "pygments_lexer": "ipython3",
   "version": "3.6.5"
  },
  "papermill": {
   "environment_variables": {},
   "output_path": "gan3d-progressive_final_64px_15001.ipynb",
   "parameters": {},
   "version": "0.15.1"
  }
 },
 "nbformat": 4,
 "nbformat_minor": 2
}
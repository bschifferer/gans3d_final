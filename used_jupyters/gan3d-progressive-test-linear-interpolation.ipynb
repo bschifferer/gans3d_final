{
 "cells": [
  {
   "cell_type": "code",
   "execution_count": 1,
   "metadata": {},
   "outputs": [],
   "source": [
    "%load_ext autoreload\n",
    "%autoreload 2"
   ]
  },
  {
   "cell_type": "code",
   "execution_count": 2,
   "metadata": {},
   "outputs": [],
   "source": [
    "import numpy as np"
   ]
  },
  {
   "cell_type": "code",
   "execution_count": 3,
   "metadata": {},
   "outputs": [],
   "source": [
    "from gan3d.utils import loadObjects\n",
    "from gan3d.progressive_visualization import interpolation"
   ]
  },
  {
   "cell_type": "markdown",
   "metadata": {},
   "source": [
    "# Define model"
   ]
  },
  {
   "cell_type": "code",
   "execution_count": 24,
   "metadata": {},
   "outputs": [],
   "source": [
    "PROGRESS = [\n",
    "    #{'len_arr': 2, 'pixel_shape': 16, 'pro_growth': 1},\n",
    "    {'len_arr': 3, 'pixel_shape': 32, 'pro_growth': 2},\n",
    "    #{'len_arr': 4, 'pixel_shape': 64, 'pro_growth': 3},\n",
    "]\n",
    "G_LAYERS = [{'no_filters': 512, 'padding': 'valid', 'strides': (1, 1, 1)}\n",
    "            ,{'no_filters': 256, 'padding': 'same', 'strides': (2, 2, 2)}\n",
    "            ,{'no_filters': 128, 'padding': 'same', 'strides': (2, 2, 2)}\n",
    "            ,{'no_filters': 64, 'padding': 'same', 'strides': (2, 2, 2)}\n",
    "           ]\n",
    "D_LAYERS = [{'no_filters': 64, 'padding': 'same'}\n",
    "            ,{'no_filters': 128, 'padding': 'same'}\n",
    "            ,{'no_filters': 256, 'padding': 'same'}\n",
    "            ,{'no_filters': 512, 'padding': 'same'}\n",
    "           ]\n",
    "PIXEL_SHAPE = 32\n",
    "BATCH_SIZE = 64\n",
    "NO_BATCHES = 8001\n",
    "G_LR = 0.0025\n",
    "D_LR = 0.00001\n",
    "BETA = 0.5\n",
    "D_TRESH = 0.8\n",
    "G_TRESH = 0.2\n",
    "PRE_TRAINED_MODELS = {'gan3d_refactored_progressive_final_32px_chair_table_15001_3_continue_2': \n",
    "                      ['gan3d_refactored_progressive_final_32px_chair_table_15001_3_continue_2_15000']\n",
    "                     }\n",
    "PATH_Z_VECTOR = '/home/ecbm4040/gans3d/output/savedZVectors/01_chairtable_32px.npy'\n",
    "V1 = 1\n",
    "V2 = 23\n",
    "NO_STEPS = 5"
   ]
  },
  {
   "cell_type": "code",
   "execution_count": 25,
   "metadata": {},
   "outputs": [
    {
     "name": "stdout",
     "output_type": "stream",
     "text": [
      "Model name: gan3d_refactored_progressive_final_32px_chair_table_15001_3_continue_2\n",
      "Pretrianed model: gan3d_refactored_progressive_final_32px_chair_table_15001_3_continue_2_15000\n",
      "Load the model from: output/gan3d_refactored_progressive_final_32px_chair_table_15001_3_continue_2/model/\n",
      "Load iteration: output/gan3d_refactored_progressive_final_32px_chair_table_15001_3_continue_2/model/\n",
      "INFO:tensorflow:Restoring parameters from output/gan3d_refactored_progressive_final_32px_chair_table_15001_3_continue_2/model/gan3d_refactored_progressive_final_32px_chair_table_15001_3_continue_2_15000\n",
      "1\n",
      "2\n",
      "3\n",
      "4\n",
      "5\n"
     ]
    }
   ],
   "source": [
    "data = np.load(PATH_Z_VECTOR)\n",
    "progress_step = PROGRESS[0]\n",
    "\n",
    "pixel_shape = progress_step['pixel_shape']\n",
    "len_arr = progress_step['len_arr']\n",
    "pro_growth = progress_step['pro_growth']\n",
    "\n",
    "interpolation(v1 = data[V1],\n",
    "              v2 = data[V2],\n",
    "              no_steps = NO_STEPS,\n",
    "              d_layers = D_LAYERS[0:len_arr],\n",
    "              g_layers = G_LAYERS[0:len_arr],\n",
    "              batch_size = BATCH_SIZE,\n",
    "              no_batches = NO_BATCHES,\n",
    "              pixel_shape = pixel_shape,\n",
    "              d_lr = D_LR,\n",
    "              g_lr = G_LR,\n",
    "              beta = BETA,\n",
    "              d_thresh = D_TRESH,\n",
    "              g_thresh = G_TRESH,\n",
    "              pro_growth = pro_growth,\n",
    "              no_vis_mul = 2,\n",
    "              pre_trained_models = PRE_TRAINED_MODELS\n",
    "             )"
   ]
  }
 ],
 "metadata": {
  "kernelspec": {
   "display_name": "Python 3",
   "language": "python",
   "name": "python3"
  },
  "language_info": {
   "codemirror_mode": {
    "name": "ipython",
    "version": 3
   },
   "file_extension": ".py",
   "mimetype": "text/x-python",
   "name": "python",
   "nbconvert_exporter": "python",
   "pygments_lexer": "ipython3",
   "version": "3.6.5"
  }
 },
 "nbformat": 4,
 "nbformat_minor": 2
}
